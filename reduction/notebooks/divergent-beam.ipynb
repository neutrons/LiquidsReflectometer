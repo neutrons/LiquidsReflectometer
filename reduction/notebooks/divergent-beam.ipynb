{
 "cells": [
  {
   "cell_type": "markdown",
   "metadata": {},
   "source": [
    "# Example reduction"
   ]
  },
  {
   "cell_type": "code",
   "execution_count": null,
   "id": null,
   "metadata": {
    "tags": []
   },
   "outputs": [],
   "source": [
    "import sys\n",
    "import os\n",
    "sys.path.append(os.path.expanduser('~/git/LiquidsReflectometer/reduction'))\n",
    "\n",
    "import numpy as np\n",
    "import scipy.stats\n",
    "from matplotlib import pyplot as plt\n",
    "import matplotlib.lines as mlines\n",
    "\n",
    "#%matplotlib notebook\n",
    "%matplotlib ipympl\n",
    "\n",
    "import warnings\n",
    "warnings.filterwarnings('ignore', module='numpy')\n",
    "warnings.filterwarnings('ignore')"
   ]
  },
  {
   "cell_type": "code",
   "execution_count": null,
   "id": null,
   "metadata": {
    "tags": []
   },
   "outputs": [],
   "source": [
    "import mantid\n",
    "import mantid.simpleapi as api\n",
    "\n",
    "mantid.kernel.config.setLogLevel(3)"
   ]
  },
  {
   "cell_type": "code",
   "execution_count": null,
   "id": null,
   "metadata": {
    "tags": []
   },
   "outputs": [],
   "source": [
    "print(mantid.__version__)\n",
    "print(sys.version)"
   ]
  },
  {
   "cell_type": "code",
   "execution_count": null,
   "id": null,
   "metadata": {
    "tags": []
   },
   "outputs": [],
   "source": [
    "import importlib\n",
    "\n",
    "from lr_reduction import event_reduction, template\n"
   ]
  },
  {
   "cell_type": "code",
   "execution_count": null,
   "id": null,
   "metadata": {},
   "outputs": [],
   "source": []
  },
  {
   "cell_type": "code",
   "execution_count": null,
   "id": null,
   "metadata": {
    "tags": []
   },
   "outputs": [],
   "source": [
    "# DB: 200686, center at 141.6\n",
    "# REF: 200649, center at 141.6, ths = 0.499919, tthd = 0.999199\n",
    "run_number = 200651\n",
    "template_path = '/SNS/REF_L/IPTS-30101/shared/autoreduce/template_div_200651.xml'\n",
    "\n",
    "run_number = 200649\n",
    "template_path = '/SNS/REF_L/IPTS-30101/shared/autoreduce/template_div_200649.xml'\n",
    "\n",
    "sequence_number = 1\n",
    "template_data = template.read_template(template_path, sequence_number)\n",
    "\n",
    "\n",
    "ws_sc = api.LoadEventNexus(\"REF_L_%s\" % run_number)\n",
    "ths_value = ws_sc.getRun()['ths'].value[0]\n",
    "tthd_value = ws_sc.getRun()['tthd'].value[0]\n",
    "print(\"ths = %g, tthd = %g\" % (ths_value, tthd_value))\n",
    "tof_min = ws_sc.getTofMin()\n",
    "tof_max = ws_sc.getTofMax()\n",
    "_ws = api.Rebin(InputWorkspace=ws_sc, Params=\"%s,200,%s\" % (tof_min, tof_max))\n",
    "y=_ws.extractY()\n",
    "x=_ws.extractX()\n",
    "y = np.reshape(y, (256, 304, y.shape[1]))\n",
    "\n",
    "_x_vs_y = np.sum(y, axis=2)\n",
    "\n",
    "fig, ax = plt.subplots(figsize=(8,8))\n",
    "im = ax.pcolormesh(np.arange(256), np.arange(304), np.log(_x_vs_y.T), cmap=\"Greys\")\n",
    "l = mlines.Line2D([0, 304], [template_data.data_peak_range[0], template_data.data_peak_range[0]], linestyle='-')\n",
    "ax.add_line(l)\n",
    "l = mlines.Line2D([0, 304], [template_data.data_peak_range[1], template_data.data_peak_range[1]], linestyle='-')\n",
    "ax.add_line(l)\n",
    "l = mlines.Line2D([0, 304], [template_data.background_roi[0], template_data.background_roi[0]], linestyle='--')\n",
    "ax.add_line(l)\n",
    "l = mlines.Line2D([0, 304], [template_data.background_roi[1], template_data.background_roi[1]], linestyle='--')\n",
    "ax.add_line(l)\n",
    "\n",
    "center = np.sum(template_data.data_peak_range)/2.0\n",
    "l = mlines.Line2D([0, 304], [center, center], linestyle='--')\n",
    "ax.add_line(l)\n",
    "\n",
    "ax.set_xlim([0,250])\n",
    "ax.set_ylim([100,180])"
   ]
  },
  {
   "cell_type": "code",
   "execution_count": null,
   "id": null,
   "metadata": {
    "tags": []
   },
   "outputs": [],
   "source": [
    "from lmfit.models import GaussianModel, LinearModel, QuadraticModel, RectangleModel\n",
    "\n",
    "\n",
    "def process_data(workspace, summed=True, tof_step=200):\n",
    "    tof_min = workspace.getTofMin()\n",
    "    tof_max = workspace.getTofMax()\n",
    "    _ws = api.Rebin(InputWorkspace=workspace, Params=\"%s,%s,%s\" % (tof_min, tof_step, tof_max))\n",
    "    y=_ws.extractY()\n",
    "    y = np.reshape(y, (256, 304, y.shape[1]))\n",
    "\n",
    "    tof=_ws.extractX()[0]\n",
    "    tof = (tof[:-1]+tof[1:])/2.0\n",
    "\n",
    "\n",
    "    if summed:\n",
    "        y = np.sum(y, axis=2)\n",
    "\n",
    "    _y = np.sum(y, axis=0)\n",
    "    _x = np.arange(304)\n",
    "    return tof, _x, _y\n",
    "\n",
    "def fit_signal_flat_bck(x, y, x_min=110, x_max=170, center=None, sigma=None):\n",
    "    gauss = GaussianModel(prefix='g_')\n",
    "    linear = LinearModel(prefix='l_')\n",
    "    QuadraticModel(prefix='q_')\n",
    "    RectangleModel(prefix='r_')\n",
    "\n",
    "    amplitude_guess = np.max(y[x_min:x_max])\n",
    "\n",
    "    _center = 140\n",
    "    _sigma = 2\n",
    "    if center is not None:\n",
    "        _center = center\n",
    "    if sigma is not None:\n",
    "        _sigma = sigma\n",
    "\n",
    "    pars = gauss.make_params(amplitude=amplitude_guess, center=_center, sigma=_sigma)\n",
    "    pars.update(linear.make_params(a=0, b=0))\n",
    "\n",
    "    #if center is not None:\n",
    "    #    pars['g_center'].vary=False\n",
    "    if sigma is not None:\n",
    "        pars['g_sigma'].vary=False\n",
    "    pars['g_amplitude'].min=0\n",
    "    pars['g_center'].min=_center-2\n",
    "    pars['g_center'].max=_center+2\n",
    "\n",
    "    weights=1/np.sqrt(y)\n",
    "    weights[y<1]=1\n",
    "\n",
    "    model = gauss + linear\n",
    "    fit = model.fit(y[x_min:x_max], pars, method='leastsq',\n",
    "                    x=x[x_min:x_max],\n",
    "                    weights=1/weights[x_min:x_max])\n",
    "    #print(fit.fit_report())\n",
    "\n",
    "    fit.params['g_amplitude']\n",
    "    c=fit.params['g_center']\n",
    "    width=fit.params['g_sigma']\n",
    "    # print(\"Gaussian: \\t %5.4g +- %5.4g \\t %3.3g +- %3.3g \\t %3.3g +- %3.3g\" %\n",
    "    #       (a.value, a.stderr, c.value, c.stderr, width.value, width.stderr))\n",
    "    return c, width, fit\n",
    "\n",
    "\n"
   ]
  },
  {
   "cell_type": "code",
   "execution_count": null,
   "id": null,
   "metadata": {
    "tags": []
   },
   "outputs": [],
   "source": [
    "x_min=template_data.data_peak_range[0]-25\n",
    "x_max=template_data.data_peak_range[1]+25\n",
    "\n",
    "tof, _x, _y = process_data(ws_sc, summed=True, tof_step=200)\n",
    "\n",
    "peak_center = np.argmax(_y)\n",
    "center, width, fit = fit_signal_flat_bck(_x, _y, x_min=x_min, x_max=x_max, center=peak_center)\n",
    "print(\"Center: %g\\t Width: %g [%g %g]\" % (center, width, np.ceil(center-4*width), np.ceil(center+4*width)))\n",
    "\n",
    "fig, ax = plt.subplots(figsize=(8,4))\n",
    "plt.plot(_x, _y)\n",
    "plt.plot(_x[x_min:x_max], fit.best_fit)\n",
    "\n",
    "plt.yscale('log')"
   ]
  },
  {
   "cell_type": "markdown",
   "metadata": {},
   "source": [
    "# Reduction"
   ]
  },
  {
   "cell_type": "code",
   "execution_count": null,
   "id": null,
   "metadata": {
    "tags": []
   },
   "outputs": [],
   "source": [
    "importlib.reload(template)\n",
    "importlib.reload(event_reduction)\n",
    "\n",
    "data_dir = os.path.expanduser('~/git/LiquidsReflectometer/reduction/data')\n",
    "template_path = '/SNS/REF_L/IPTS-30101/shared/autoreduce/template_div_200649.xml'\n",
    "\n",
    "#qz_mid, refl, d_refl = template.process_from_template(run_number, template_path)\n",
    "pre_cut = 1\n",
    "post_cut = 1\n",
    "\n",
    "qz_all = []\n",
    "refl_all = []\n",
    "d_refl_all = []\n",
    "\n",
    "first_run = None\n",
    "\n",
    "fig, ax = plt.subplots(figsize=(10,8))\n",
    "\n",
    "\n",
    "#template_data.data_peak_range = [141-5, 142+5]\n",
    "\n",
    "print('\\n%s' % run_number)\n",
    "ws_sc = api.Load(\"REF_L_%s\" % run_number)\n",
    "qz_mid, refl, d_refl = template.process_from_template_ws(ws_sc, template_data)\n",
    "qz_mid2, refl2, d_refl2 = template.process_from_template_ws(ws_sc, template_data, q_summing=True, tof_weighted=True, clean=True)\n",
    "qz_mid3, refl3, d_refl3 = template.process_from_template_ws(ws_sc, template_data, q_summing=True, tof_weighted=True, clean=False)\n",
    "\n",
    "plt.errorbar(qz_mid, refl, yerr=d_refl, markersize=4, marker='.', linestyle='', label='standard')\n",
    "plt.errorbar(qz_mid3, refl3, yerr=d_refl3, markersize=4, marker='.', linestyle='', label='const-Q [trim]')\n",
    "plt.errorbar(qz_mid2, refl2, yerr=d_refl2, markersize=4, marker='.', linestyle='', label='const-Q')\n",
    "\n",
    "\n",
    "\n",
    "plt.legend()\n",
    "plt.xlabel(r'q [$1/\\AA$]')\n",
    "plt.ylabel('R(q)')\n",
    "ax.set_yscale('log')\n",
    "ax.set_xscale('log')\n",
    "plt.show()\n",
    "\n"
   ]
  },
  {
   "cell_type": "code",
   "execution_count": null,
   "id": null,
   "metadata": {},
   "outputs": [],
   "source": []
  }
 ],
 "metadata": {
  "kernelspec": {
   "display_name": "sans",
   "language": "",
   "name": "sans"
  },
  "language_info": {
   "codemirror_mode": {
    "name": "ipython",
    "version": 3
   },
   "file_extension": ".py",
   "mimetype": "text/x-python",
   "name": "python",
   "nbconvert_exporter": "python",
   "pygments_lexer": "ipython3",
   "version": "3.8.15"
  }
 },
 "nbformat": 4,
 "nbformat_minor": 4
}
