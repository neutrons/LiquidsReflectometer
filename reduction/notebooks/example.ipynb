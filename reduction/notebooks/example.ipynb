{
 "cells": [
  {
   "cell_type": "markdown",
   "metadata": {},
   "source": [
    "# Example reduction"
   ]
  },
  {
   "cell_type": "code",
   "execution_count": null,
   "id": null,
   "metadata": {
    "tags": []
   },
   "outputs": [],
   "source": [
    "import sys\n",
    "import os\n",
    "sys.path.append(os.path.expanduser('~/git/LiquidsReflectometer/reduction'))\n",
    "\n",
    "import numpy as np\n",
    "import scipy.stats\n",
    "from matplotlib import pyplot as plt\n",
    "import matplotlib.lines as mlines\n",
    "\n",
    "#%matplotlib notebook\n",
    "%matplotlib ipympl\n",
    "\n",
    "import warnings\n",
    "warnings.filterwarnings('ignore', module='numpy')\n",
    "warnings.filterwarnings('ignore')"
   ]
  },
  {
   "cell_type": "code",
   "execution_count": null,
   "id": null,
   "metadata": {
    "tags": []
   },
   "outputs": [],
   "source": [
    "import mantid\n",
    "import mantid.simpleapi as api\n",
    "\n",
    "mantid.kernel.config.setLogLevel(3)"
   ]
  },
  {
   "cell_type": "code",
   "execution_count": null,
   "id": null,
   "metadata": {
    "tags": []
   },
   "outputs": [],
   "source": [
    "print(mantid.__version__)\n",
    "print(sys.version)"
   ]
  },
  {
   "cell_type": "code",
   "execution_count": null,
   "id": null,
   "metadata": {
    "tags": []
   },
   "outputs": [],
   "source": [
    "import importlib\n",
    "\n",
    "from lr_reduction import event_reduction, template\n"
   ]
  },
  {
   "cell_type": "markdown",
   "metadata": {},
   "source": [
    "# Reduction"
   ]
  },
  {
   "cell_type": "code",
   "execution_count": null,
   "id": null,
   "metadata": {
    "tags": []
   },
   "outputs": [],
   "source": [
    "importlib.reload(template)\n",
    "importlib.reload(event_reduction)\n",
    "\n",
    "data_dir = os.path.expanduser('~/git/LiquidsReflectometer/reduction/data')\n",
    "template_path = os.path.join(data_dir, 'template.xml')\n",
    "\n",
    "#qz_mid, refl, d_refl = template.process_from_template(run_number, template_path)\n",
    "pre_cut = 1\n",
    "post_cut = 1\n",
    "\n",
    "qz_all = []\n",
    "refl_all = []\n",
    "d_refl_all = []\n",
    "\n",
    "first_run = None\n",
    "\n",
    "fig, ax = plt.subplots(figsize=(10,8))\n",
    "\n",
    "first_run = None\n",
    "resolution = 0.028\n",
    "\n",
    "\n",
    "for run_number in range(198409, 198417):\n",
    "\n",
    "    print('\\n%s' % run_number)\n",
    "    ws_sc = api.Load(\"REF_L_%s\" % run_number)\n",
    "    qz_mid, refl, d_refl = template.process_from_template_ws(ws_sc, template_path)\n",
    "\n",
    "    if first_run is None:\n",
    "        first_run = run_number\n",
    "        resolution = event_reduction.compute_resolution(ws_sc)\n",
    "\n",
    "    idx = np.fabs(refl) > 0\n",
    "    qz_mid = qz_mid[idx][pre_cut:-post_cut]\n",
    "    refl = refl[idx][pre_cut:-post_cut]\n",
    "    d_refl = d_refl[idx][pre_cut:-post_cut]\n",
    "\n",
    "    plt.errorbar(qz_mid, refl, yerr=d_refl, markersize=4, marker='.', linestyle='', label=run_number)\n",
    "\n",
    "    for i in range(len(qz_mid)-1, -1, -1):\n",
    "        qz_all.append(qz_mid[i])\n",
    "        refl_all.append(refl[i])\n",
    "        d_refl_all.append(d_refl[i])\n",
    "\n",
    "qz_all = np.asarray(qz_all)\n",
    "refl_all = np.asarray(refl_all)\n",
    "d_refl_all = np.asarray(d_refl_all)\n",
    "idx = np.argsort(qz_all)\n",
    "\n",
    "qz_all = np.take_along_axis(qz_all, idx, axis=None)\n",
    "refl_all = np.take_along_axis(refl_all, idx, axis=None)\n",
    "d_refl_all = np.take_along_axis(d_refl_all, idx, axis=None)\n",
    "\n",
    "\n",
    "plt.legend()\n",
    "plt.xlabel(r'q [$1/\\AA$]')\n",
    "plt.ylabel('R(q)')\n",
    "ax.set_yscale('log')\n",
    "ax.set_xscale('log')\n",
    "plt.show()\n",
    "\n",
    "\n",
    "\n",
    "print(\"Q resolution = %s\" % resolution)"
   ]
  },
  {
   "cell_type": "code",
   "execution_count": null,
   "id": null,
   "metadata": {
    "tags": []
   },
   "outputs": [],
   "source": [
    "reduced_path = os.path.join(data_dir, 'reference_rq.txt')\n",
    "\n",
    "#data_dir = '/SNS/REF_L/IPTS-28662/shared/autoreduce'\n",
    "#reduced_path = os.path.join(data_dir, 'REFL_198409_combined_data_auto.txt')\n",
    "\n",
    "if os.path.isfile(reduced_path):\n",
    "    _data = np.loadtxt(reduced_path).T\n",
    "\n",
    "fig, ax = plt.subplots(figsize=(10,5))\n",
    "plt.errorbar(qz_all, refl_all, yerr=d_refl_all, markersize=4, marker='.', linestyle='', label=first_run)\n",
    "plt.errorbar(_data[0], _data[1], yerr=_data[2], markersize=4, marker='', linestyle='-', label='reference')\n",
    "\n",
    "plt.legend()\n",
    "plt.xlabel(r'q [$1/\\AA$]')\n",
    "plt.ylabel('R(q)')\n",
    "ax.set_yscale('log')\n",
    "ax.set_xscale('log')\n",
    "plt.show()\n",
    "\n",
    "if len(_data[1])==len(refl_all):\n",
    "    delta = np.fabs(_data[1]-refl_all)/refl_all*100\n",
    "    fig, ax = plt.subplots(figsize=(10,5))\n",
    "    plt.plot(qz_all, delta)\n",
    "\n",
    "    plt.xlabel(r'q [$1/\\AA$]')\n",
    "    plt.ylabel(r'$\\Delta$R/R [%]')\n",
    "    ax.set_yscale('linear')\n",
    "    ax.set_xscale('log')\n",
    "    plt.show()\n",
    "\n",
    "dq = qz_all * resolution\n",
    "output_file = os.path.join(data_dir, '..', \"r%s.txt\" % first_run)\n",
    "np.savetxt(output_file, np.asarray([qz_all, refl_all, d_refl_all, dq]).T)\n",
    "print(\"Writing file: %s\" % output_file)\n"
   ]
  },
  {
   "cell_type": "code",
   "execution_count": null,
   "id": null,
   "metadata": {},
   "outputs": [],
   "source": []
  }
 ],
 "metadata": {
  "kernelspec": {
   "display_name": "sans",
   "language": "",
   "name": "sans"
  },
  "language_info": {
   "codemirror_mode": {
    "name": "ipython",
    "version": 3
   },
   "file_extension": ".py",
   "mimetype": "text/x-python",
   "name": "python",
   "nbconvert_exporter": "python",
   "pygments_lexer": "ipython3",
   "version": "3.8.15"
  }
 },
 "nbformat": 4,
 "nbformat_minor": 4
}
