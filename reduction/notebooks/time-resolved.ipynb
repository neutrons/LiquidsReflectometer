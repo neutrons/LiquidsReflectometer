{
 "cells": [
  {
   "cell_type": "markdown",
   "metadata": {},
   "source": [
    "# Time resolved reduction"
   ]
  },
  {
   "cell_type": "code",
   "execution_count": null,
   "id": null,
   "metadata": {
    "tags": []
   },
   "outputs": [],
   "source": [
    "import sys\n",
    "import os\n",
    "sys.path.append(os.path.expanduser('~/git/LiquidsReflectometer/reduction'))\n",
    "\n",
    "import numpy as np\n",
    "import scipy.stats\n",
    "from matplotlib import pyplot as plt\n",
    "import matplotlib.lines as mlines\n",
    "\n",
    "#%matplotlib notebook\n",
    "%matplotlib inline\n",
    "\n",
    "import warnings\n",
    "warnings.filterwarnings('ignore', module='numpy')\n",
    "warnings.filterwarnings('ignore')"
   ]
  },
  {
   "cell_type": "code",
   "execution_count": null,
   "id": null,
   "metadata": {
    "tags": []
   },
   "outputs": [],
   "source": [
    "import mantid\n",
    "\n",
    "mantid.kernel.config.setLogLevel(3)"
   ]
  },
  {
   "cell_type": "code",
   "execution_count": null,
   "id": null,
   "metadata": {
    "tags": []
   },
   "outputs": [],
   "source": [
    "print(mantid.__version__)\n",
    "print(sys.version)"
   ]
  },
  {
   "cell_type": "code",
   "execution_count": null,
   "id": null,
   "metadata": {
    "tags": []
   },
   "outputs": [],
   "source": []
  },
  {
   "cell_type": "code",
   "execution_count": null,
   "id": null,
   "metadata": {
    "tags": []
   },
   "outputs": [],
   "source": [
    "dir_new = '/SNS/users/m2d/tmp2'\n",
    "dir_old = '/SNS/users/m2d/tmp'\n",
    "\n",
    "for f in os.listdir(dir_new):\n",
    "    if f.startswith('r193632') and f.endswith('.txt'):\n",
    "        data_new = np.loadtxt(os.path.join(dir_new, f)).T\n",
    "        data_old = np.loadtxt(os.path.join(dir_old, f)).T\n",
    "        if True:\n",
    "            fig, ax = plt.subplots(figsize=(10,5))\n",
    "            plt.errorbar(data_new[0], data_new[1], yerr=data_new[2], markersize=4, marker='.', linestyle='', label='new reduction')\n",
    "            plt.errorbar(data_old[0], data_old[1], yerr=data_old[2], markersize=4, marker='', linestyle='-', label=f)\n",
    "\n",
    "            plt.legend()\n",
    "            plt.xlabel(r'q [$1/\\AA$]')\n",
    "            plt.ylabel('R(q)')\n",
    "            ax.set_yscale('log')\n",
    "            ax.set_xscale('log')\n",
    "            plt.show()"
   ]
  },
  {
   "cell_type": "code",
   "execution_count": null,
   "id": null,
   "metadata": {
    "tags": []
   },
   "outputs": [],
   "source": [
    "fig, ax = plt.subplots(figsize=(10,5))\n",
    "\n",
    "deadtime = 4e-6\n",
    "meastime = 1 # measurement time\n",
    "\n",
    "counts = np.arange(200000)\n",
    "\n",
    "rate = counts/(1-counts*deadtime/meastime)\n",
    "delta_rate = rate-counts\n",
    "\n",
    "rate2 = counts/(1-counts*0.5*deadtime/meastime)\n",
    "delta_rate2 = rate2-counts\n",
    "\n",
    "plt.plot(counts, rate, label='rate')\n",
    "plt.plot(counts, rate2, label='rate 2x')\n",
    "plt.plot(counts, counts, label='measured rate')\n",
    "plt.legend()\n",
    "plt.show()\n",
    "\n",
    "plt.plot(counts, delta_rate/rate, label='error fraction')\n",
    "plt.plot(counts, delta_rate2/rate2, label='error fraction 2x')\n",
    "plt.legend()\n",
    "plt.show()\n"
   ]
  }
 ],
 "metadata": {
  "kernelspec": {
   "display_name": "sans",
   "language": "",
   "name": "sans"
  },
  "language_info": {
   "codemirror_mode": {
    "name": "ipython",
    "version": 3
   },
   "file_extension": ".py",
   "mimetype": "text/x-python",
   "name": "python",
   "nbconvert_exporter": "python",
   "pygments_lexer": "ipython3",
   "version": "3.8.15"
  }
 },
 "nbformat": 4,
 "nbformat_minor": 4
}
