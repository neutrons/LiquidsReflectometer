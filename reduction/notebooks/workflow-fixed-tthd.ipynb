{
 "cells": [
  {
   "cell_type": "markdown",
   "metadata": {},
   "source": [
    "# Example reduction"
   ]
  },
  {
   "cell_type": "code",
   "execution_count": null,
   "metadata": {
    "tags": []
   },
   "outputs": [],
   "source": [
    "import sys\n",
    "import os\n",
    "sys.path.append(os.path.expanduser('~/git/LiquidsReflectometer/reduction'))\n",
    "\n",
    "import numpy as np\n",
    "import scipy.stats\n",
    "from matplotlib import pyplot as plt\n",
    "import matplotlib.lines as mlines\n",
    "\n",
    "#%matplotlib notebook\n",
    "%matplotlib ipympl\n",
    "\n",
    "import warnings\n",
    "warnings.filterwarnings('ignore', module='numpy')\n",
    "warnings.filterwarnings('ignore')"
   ]
  },
  {
   "cell_type": "code",
   "execution_count": null,
   "metadata": {
    "tags": []
   },
   "outputs": [],
   "source": [
    "import mantid\n",
    "import mantid.simpleapi as api\n",
    "\n",
    "mantid.kernel.config.setLogLevel(3)"
   ]
  },
  {
   "cell_type": "code",
   "execution_count": null,
   "metadata": {
    "tags": []
   },
   "outputs": [],
   "source": [
    "print(mantid.__version__)\n",
    "print(sys.version)"
   ]
  },
  {
   "cell_type": "code",
   "execution_count": null,
   "metadata": {
    "tags": []
   },
   "outputs": [],
   "source": [
    "import importlib\n",
    "\n",
    "from lr_reduction import event_reduction, output, peak_finding, template, workflow"
   ]
  },
  {
   "cell_type": "code",
   "execution_count": null,
   "metadata": {},
   "outputs": [],
   "source": []
  },
  {
   "cell_type": "code",
   "execution_count": null,
   "metadata": {
    "tags": []
   },
   "outputs": [],
   "source": [
    "importlib.reload(workflow)\n",
    "importlib.reload(output)\n",
    "importlib.reload(event_reduction)\n",
    "importlib.reload(peak_finding)\n",
    "importlib.reload(template)\n",
    "\n",
    "data_dir = os.path.expanduser('~/git/LiquidsReflectometer/reduction/data')\n",
    "template_path = os.path.join(data_dir, 'template.xml')\n",
    "\n",
    "fig, ax = plt.subplots(figsize=(10,5))\n",
    "seq = 1\n",
    "\n",
    "for i in range(198409, 198417):\n",
    "    ws = api.Load(\"REF_L_%s\" % i)\n",
    "    workflow.reduce_fixed_two_theta(ws, template_path, output_dir=data_dir, pre_cut=1, post_cut=1, average_overlap=False)\n",
    "    #workflow.reduce(ws, template_path, output_dir=data_dir, pre_cut=1, post_cut=1, average_overlap=False)\n",
    "\n",
    "    reduced_path = os.path.join(data_dir, 'REFL_198409_%s_%s_partial.txt' % (seq, i))\n",
    "    if os.path.isfile(reduced_path):\n",
    "        _refl = np.loadtxt(reduced_path).T\n",
    "        plt.errorbar(\n",
    "            _refl[0], _refl[1]*_refl[0]**4, yerr=_refl[2]*_refl[0]**4, markersize=4, marker='.', linestyle='', label='new reduction'\n",
    "            )\n",
    "\n",
    "    seq += 1\n",
    "\n",
    "plt.xlabel(r'q [$1/\\AA$]')\n",
    "plt.ylabel('R(q)')\n",
    "ax.set_yscale('log')\n",
    "ax.set_xscale('log')\n",
    "plt.show()\n"
   ]
  },
  {
   "cell_type": "code",
   "execution_count": null,
   "metadata": {
    "tags": []
   },
   "outputs": [],
   "source": [
    "reduced_path = os.path.join(data_dir, 'reference_rq.txt')\n",
    "if os.path.isfile(reduced_path):\n",
    "    _data = np.loadtxt(reduced_path).T\n",
    "\n",
    "reduced_path = os.path.join(data_dir, 'REFL_198409_combined_data_auto.txt')\n",
    "if os.path.isfile(reduced_path):\n",
    "    _refl = np.loadtxt(reduced_path).T\n",
    "\n",
    "fig, ax = plt.subplots(figsize=(10,5))\n",
    "plt.errorbar(_refl[0], _refl[1]*_refl[0]**4, yerr=_refl[2]*_refl[0]**4, markersize=4, marker='.', linestyle='', label='new reduction')\n",
    "plt.errorbar(_data[0], _data[1]*_data[0]**4, yerr=_data[2]*_data[0]**4, markersize=4, marker='', linestyle='-', label='reference')\n",
    "\n",
    "plt.legend()\n",
    "plt.xlabel(r'q [$1/\\AA$]')\n",
    "plt.ylabel('R(q)')\n",
    "ax.set_yscale('log')\n",
    "ax.set_xscale('log')\n",
    "plt.show()\n",
    "\n"
   ]
  },
  {
   "cell_type": "code",
   "execution_count": null,
   "metadata": {},
   "outputs": [],
   "source": []
  },
  {
   "cell_type": "code",
   "execution_count": null,
   "metadata": {},
   "outputs": [],
   "source": []
  }
 ],
 "metadata": {
  "kernelspec": {
   "display_name": "sans",
   "language": "",
   "name": "sans"
  },
  "language_info": {
   "codemirror_mode": {
    "name": "ipython",
    "version": 3
   },
   "file_extension": ".py",
   "mimetype": "text/x-python",
   "name": "python",
   "nbconvert_exporter": "python",
   "pygments_lexer": "ipython3",
   "version": "3.8.12"
  }
 },
 "nbformat": 4,
 "nbformat_minor": 4
}
