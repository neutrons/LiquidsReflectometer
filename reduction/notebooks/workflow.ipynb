{
 "cells": [
  {
   "cell_type": "markdown",
   "metadata": {},
   "source": [
    "# Example reduction"
   ]
  },
  {
   "cell_type": "code",
   "execution_count": null,
   "id": null,
   "metadata": {
    "tags": []
   },
   "outputs": [],
   "source": [
    "import sys\n",
    "import os\n",
    "sys.path.append(os.path.expanduser('~/git/LiquidsReflectometer/reduction'))\n",
    "\n",
    "import numpy as np\n",
    "import scipy.stats\n",
    "from matplotlib import pyplot as plt\n",
    "import matplotlib.lines as mlines\n",
    "\n",
    "#%matplotlib notebook\n",
    "%matplotlib ipympl\n",
    "\n",
    "import warnings\n",
    "warnings.filterwarnings('ignore', module='numpy')\n",
    "warnings.filterwarnings('ignore')"
   ]
  },
  {
   "cell_type": "code",
   "execution_count": null,
   "id": null,
   "metadata": {
    "tags": []
   },
   "outputs": [],
   "source": [
    "import mantid\n",
    "import mantid.simpleapi as api\n",
    "\n",
    "mantid.kernel.config.setLogLevel(3)"
   ]
  },
  {
   "cell_type": "code",
   "execution_count": null,
   "id": null,
   "metadata": {
    "tags": []
   },
   "outputs": [],
   "source": [
    "print(mantid.__version__)\n",
    "print(sys.version)"
   ]
  },
  {
   "cell_type": "code",
   "execution_count": null,
   "id": null,
   "metadata": {
    "tags": []
   },
   "outputs": [],
   "source": [
    "import importlib\n",
    "\n",
    "from lr_reduction import event_reduction, output, reduction_template_reader, template, workflow"
   ]
  },
  {
   "cell_type": "code",
   "execution_count": null,
   "id": null,
   "metadata": {
    "tags": []
   },
   "outputs": [],
   "source": [
    "importlib.reload(workflow)\n",
    "importlib.reload(output)\n",
    "importlib.reload(event_reduction)\n",
    "\n",
    "data_dir = os.path.expanduser('~/git/LiquidsReflectometer/reduction/data')\n",
    "template_path = os.path.join(data_dir, 'template.xml')\n",
    "\n",
    "for i in range(198409, 198417):\n",
    "    ws = api.Load(\"REF_L_%s\" % i)\n",
    "    workflow.reduce(ws, template_path, output_dir=data_dir, pre_cut=1, post_cut=1, average_overlap=False)\n"
   ]
  },
  {
   "cell_type": "code",
   "execution_count": null,
   "id": null,
   "metadata": {
    "tags": []
   },
   "outputs": [],
   "source": [
    "reduced_path = os.path.join(data_dir, 'reference_rq.txt')\n",
    "if os.path.isfile(reduced_path):\n",
    "    _data = np.loadtxt(reduced_path).T\n",
    "\n",
    "reduced_path = os.path.join(data_dir, 'REFL_198409_combined_data_auto.txt')\n",
    "if os.path.isfile(reduced_path):\n",
    "    _refl = np.loadtxt(reduced_path).T\n",
    "\n",
    "fig, ax = plt.subplots(figsize=(10,5))\n",
    "plt.errorbar(_refl[0], _refl[1]*_refl[0]**4, yerr=_refl[2]*_refl[0]**4, markersize=4, marker='.', linestyle='', label='new reduction')\n",
    "plt.errorbar(_data[0], _data[1]*_data[0]**4, yerr=_data[2]*_data[0]**4, markersize=4, marker='', linestyle='-', label='reference')\n",
    "\n",
    "plt.legend()\n",
    "plt.xlabel(r'q [$1/\\AA$]')\n",
    "plt.ylabel('R(q)')\n",
    "ax.set_yscale('log')\n",
    "ax.set_xscale('log')\n",
    "plt.show()\n",
    "\n",
    "if len(_data[1])==len(_refl[1]):\n",
    "    # dQ is computed for each run in the new implementation\n",
    "    fig, ax = plt.subplots(figsize=(10,5))\n",
    "    plt.plot(_refl[0], _refl[3]/_refl[0], label=\"new_reduction\")\n",
    "    plt.plot(_data[0], _data[3]/_data[0], label=\"reference\")\n",
    "\n",
    "    plt.xlabel(r'q [$1/\\AA$]')\n",
    "    plt.ylabel(r'$\\Delta q$')\n",
    "    ax.set_yscale('linear')\n",
    "    ax.set_xscale('log')\n",
    "    plt.show()\n",
    "else:\n",
    "    print(\"len(ref) = %s; len(new) = %s\" % (len(_data[1]), len(_refl[1])))\n",
    "\n",
    "for i in range(4):\n",
    "    print(np.sum(_data[i]-_refl[i]))\n"
   ]
  },
  {
   "cell_type": "code",
   "execution_count": null,
   "id": null,
   "metadata": {
    "tags": []
   },
   "outputs": [],
   "source": [
    "importlib.reload(workflow)\n",
    "importlib.reload(output)\n",
    "importlib.reload(event_reduction)\n",
    "importlib.reload(reduction_template_reader)\n",
    "\n",
    "data_dir = os.path.expanduser('~/git/LiquidsReflectometer/reduction/data')\n",
    "template_path = os.path.join(data_dir, 'template.xml')\n",
    "\n",
    "\n",
    "\n",
    "def write_template(template_file, output_dir):\n",
    "    #self.data_peak_range = [140, 150]\n",
    "    #self.background_roi = [137, 153,100, 200]\n",
    "\n",
    "    with open(template_file, \"r\") as fd:\n",
    "        xml_str = fd.read()\n",
    "        data_sets = reduction_template_reader.from_xml(xml_str)\n",
    "\n",
    "        # Left background\n",
    "        for i in range(8):\n",
    "            print(\"Peak: %s\" % data_sets[i].data_peak_range)\n",
    "            data_sets[i].background_roi[0] = data_sets[i].data_peak_range[0]-5\n",
    "            data_sets[i].background_roi[1] = data_sets[i].data_peak_range[0]\n",
    "\n",
    "        xml_str = reduction_template_reader.to_xml(data_sets)\n",
    "        with open(os.path.join(output_dir, 'template_left.xml'), 'w') as fd:\n",
    "            fd.write(xml_str)\n",
    "\n",
    "        # Right background\n",
    "        for i in range(8):\n",
    "            data_sets[i].background_roi[0] = data_sets[i].data_peak_range[1]\n",
    "            data_sets[i].background_roi[1] = data_sets[i].data_peak_range[1]+5\n",
    "\n",
    "        xml_str = reduction_template_reader.to_xml(data_sets)\n",
    "        with open(os.path.join(output_dir, 'template_right.xml'), 'w') as fd:\n",
    "            fd.write(xml_str)\n",
    "\n",
    "        # Invalid background\n",
    "        for i in range(8):\n",
    "            data_sets[i].background_roi[0] = data_sets[i].data_peak_range[0]+1\n",
    "            data_sets[i].background_roi[1] = data_sets[i].data_peak_range[1]-1\n",
    "\n",
    "        xml_str = reduction_template_reader.to_xml(data_sets)\n",
    "        with open(os.path.join(output_dir, 'template_invalid.xml'), 'w') as fd:\n",
    "            fd.write(xml_str)\n",
    "\n",
    "\n",
    "write_template(template_path, data_dir)\n",
    "template_path_left = os.path.join(data_dir, 'template_left.xml')\n",
    "template_path_right = os.path.join(data_dir, 'template_right.xml')\n",
    "template_path_invalid = os.path.join(data_dir, 'template_invalid.xml')\n",
    "\n",
    "for i in range(198409, 198417):\n",
    "    ws = api.Load(\"REF_L_%s\" % i)\n",
    "    workflow.reduce(ws, template_path_invalid, output_dir=data_dir, pre_cut=1, post_cut=1, average_overlap=False)\n",
    "\n"
   ]
  },
  {
   "cell_type": "code",
   "execution_count": null,
   "id": null,
   "metadata": {
    "tags": []
   },
   "outputs": [],
   "source": [
    "importlib.reload(workflow)\n",
    "importlib.reload(output)\n",
    "importlib.reload(template)\n",
    "importlib.reload(event_reduction)\n",
    "importlib.reload(reduction_template_reader)\n",
    "\n",
    "# IPTS-26010\n",
    "# 192872, 191674, 190189, 187797: quartz\n",
    "# 192879, 190202, 187804: inverted quartz\n",
    "# 193204: SiO2\n",
    "\n",
    "# IPTS-29196\n",
    "# 201364: quartz\n",
    "# 201074: D2O\n",
    "# 201083: Mo in cell\n",
    "\n",
    "# IPTS-30101\n",
    "# 197900: quartz\n",
    "\n",
    "# IPTS-29815\n",
    "# 201446: Rana\n",
    "\n",
    "# IPTS-28210\n",
    "# 193773: quartz\n",
    "\n",
    "# Frank IPTS-28412\n",
    "# 191499 (cell up to 0.4)\n",
    "\n",
    "run_number = 201282\n",
    "IPTS = 29196\n",
    "\n",
    "run_number = 194385\n",
    "IPTS = 28342\n",
    "\n",
    "data_dir = os.path.expanduser('~/git/LiquidsReflectometer/reduction/data')\n",
    "template_path = \"/SNS/REF_L/IPTS-%s/shared/autoreduce/REF_L_%s_auto_template.xml\" % (IPTS, run_number)\n",
    "template_path = \"/SNS/REF_L/IPTS-28342/shared/autoreduce/194391-no-bck.xml\"\n",
    "\n",
    "\n",
    "for i in range(run_number, run_number+7):\n",
    "    ws = api.Load(\"REF_L_%s\" % i)\n",
    "    thi = ws.getRun().getProperty(\"thi\").value[0]\n",
    "    workflow.reduce(ws, template_path, output_dir=data_dir, pre_cut=1, post_cut=1, average_overlap=False, q_summing=False)\n"
   ]
  },
  {
   "cell_type": "code",
   "execution_count": null,
   "id": null,
   "metadata": {
    "tags": []
   },
   "outputs": [],
   "source": [
    "reduced_path = \"/SNS/REF_L/IPTS-%s/shared/autoreduce/REFL_%s_combined_data_auto.txt\" % (IPTS, run_number)\n",
    "\n",
    "if os.path.isfile(reduced_path):\n",
    "    _data = np.loadtxt(reduced_path).T\n",
    "\n",
    "reduced_path = os.path.join(data_dir, 'REFL_%s_combined_data_auto.txt' % run_number)\n",
    "if os.path.isfile(reduced_path):\n",
    "    _refl = np.loadtxt(reduced_path).T\n",
    "\n",
    "fig, ax = plt.subplots(figsize=(10,5))\n",
    "plt.errorbar(_refl[0], _refl[1], yerr=_refl[2], markersize=4, marker='.', linestyle='', label='new reduction')\n",
    "plt.errorbar(_data[0], _data[1], yerr=_data[2], markersize=4, marker='', linestyle='-', label='old')\n",
    "\n",
    "plt.legend()\n",
    "plt.xlabel(r'q [$1/\\AA$]')\n",
    "plt.ylabel('R(q)')\n",
    "ax.set_yscale('log')\n",
    "ax.set_xscale('log')\n",
    "plt.show()\n"
   ]
  },
  {
   "cell_type": "code",
   "execution_count": null,
   "id": null,
   "metadata": {},
   "outputs": [],
   "source": []
  },
  {
   "cell_type": "code",
   "execution_count": null,
   "id": null,
   "metadata": {},
   "outputs": [],
   "source": []
  }
 ],
 "metadata": {
  "kernelspec": {
   "display_name": "sans",
   "language": "",
   "name": "sans"
  },
  "language_info": {
   "codemirror_mode": {
    "name": "ipython",
    "version": 3
   },
   "file_extension": ".py",
   "mimetype": "text/x-python",
   "name": "python",
   "nbconvert_exporter": "python",
   "pygments_lexer": "ipython3",
   "version": "3.8.12"
  }
 },
 "nbformat": 4,
 "nbformat_minor": 4
}
